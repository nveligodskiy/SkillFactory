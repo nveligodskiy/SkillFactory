{
 "cells": [
  {
   "cell_type": "markdown",
   "metadata": {},
   "source": [
    "# Загрузка Pandas и очистка данных"
   ]
  },
  {
   "cell_type": "code",
   "execution_count": 1,
   "metadata": {},
   "outputs": [],
   "source": [
    "import pandas as pd"
   ]
  },
  {
   "cell_type": "code",
   "execution_count": 3,
   "metadata": {},
   "outputs": [],
   "source": [
    "data = pd.read_csv('main_task_new.csv')"
   ]
  },
  {
   "cell_type": "code",
   "execution_count": 4,
   "metadata": {},
   "outputs": [
    {
     "name": "stderr",
     "output_type": "stream",
     "text": [
      "<ipython-input-4-9d20956f5495>:58: SettingWithCopyWarning: \n",
      "A value is trying to be set on a copy of a slice from a DataFrame\n",
      "\n",
      "See the caveats in the documentation: https://pandas.pydata.org/pandas-docs/stable/user_guide/indexing.html#returning-a-view-versus-a-copy\n",
      "  data['cuisine_qntty'][i]=len(data['cuisine'][i])\n"
     ]
    }
   ],
   "source": [
    "#Задание модуля три -Проект о вкусной и здоровой пище\n",
    "\n",
    "\n",
    "data['Number of Reviews'].fillna(0, inplace=True)\n",
    "\n",
    "\n",
    "\n",
    "df2=pd.get_dummies(data['City'])\n",
    "data=pd.concat([data,df2], axis=1)\n",
    "\n",
    "data['Price Range']=data['Price Range'].fillna('unknown')\n",
    "df3=pd.get_dummies(data['Price Range'])\n",
    "data=pd.concat([data,df3], axis=1)\n",
    "\n",
    "#создадим функцию выделяющую дату из отзывов через регулярные выражения\n",
    "import re\n",
    "def search_date(i):\n",
    "    pattern=re.compile('\\d{2}\\/\\d{2}\\/\\d{4}')\n",
    "    found_date = pattern.findall(i)    \n",
    "    if len(found_date) == 0:\n",
    "        found_date = 'no_date'\n",
    "    return found_date\n",
    "\n",
    " #применим функцию поиска дат к колонке отзывов\n",
    "data['reviews_date'] = 0\n",
    "data['Reviews']=data['Reviews'].fillna('no_reviews')\n",
    "data['reviews_date'] = data['Reviews'].apply(search_date) \n",
    "\n",
    "import datetime\n",
    "from datetime import datetime, timedelta\n",
    "\n",
    "len_rev = len(data['reviews_date'])\n",
    "\n",
    "cs_list = []#создадим переменную для заполнения разницы в датах отзывов\n",
    "\n",
    "#и заполним ее\n",
    "\n",
    "for i in range (0, len_rev):\n",
    "    one_list = data['reviews_date'][i]\n",
    "    if len(one_list) == 2:\n",
    "        f_date = pd.to_datetime(one_list[0], format='%m/%d/%Y')\n",
    "        s_date = pd.to_datetime(one_list[1], format='%m/%d/%Y')\n",
    "        cs_list.append(f_date - s_date)\n",
    "    else: cs_list.append(timedelta(0))\n",
    " #далее создадим новый столбец в датафрейме и переведем в тип данных подходящий для алгоритма,\n",
    "#то есть извлечем из формата данных \n",
    "data['time_delta']=cs_list\n",
    "data['time_delta']=data['time_delta'].dt.days\n",
    "\n",
    "# создадим новую переменную для кухонь, пропуски заполним загадкой\n",
    "data['cuisine'] = data['Cuisine Style'].fillna(\"['mystery']\")\n",
    "\n",
    "# переведём строки в списки\n",
    "data['cuisine'] = data['cuisine'].apply(lambda x: eval(x))\n",
    "#создадим еще один признак как количество кухонь в каждом ресторане\n",
    "data['cuisine_qntty']=0\n",
    "for i in range (0,len(data['cuisine'])):\n",
    "    data['cuisine_qntty'][i]=len(data['cuisine'][i])\n",
    "\n",
    "\n",
    "#заполним данные о населении городов с помощью словаря population\n",
    "population={ 'London': [8173900], 'Paris': [2161900],'Madrid':[3223334],'Barcelona':[1620343],'Berlin':[3644826],\n",
    "            'Milan':[1352562], 'Rome': [2873000], 'Prague': [1309000],'Lisbon':[504718], 'Vienna':[1897000],\n",
    "            'Amsterdam':[821752],'Brussels':[179000], 'Hamburg':[1841000], 'Munich':[1472000], 'Lyon':[12772], \n",
    "            'Stockholm':[975551], 'Budapest':[1756000], 'Warsaw':[1765000], 'Dublin':[544000],'Copenhagen':[603000],\n",
    "           'Athens':[664000],'Edinburg':[482000],'Zuruch':[402752],'Oporto':[214350],'Geneva':[198979],'Krakow':[766700],\n",
    "           'Oslo':[690300], 'Helsinki':[650000],'Bratislava':[430000], 'Luxembourg':[620000],'Ljubljana':[300000]}\n",
    "#и создадим еще один признак\n",
    "data['city_population']=0\n",
    "data=data.set_index('City')\n",
    "data.update(pd.DataFrame(population,index=['city_population']).T)\n",
    "data=data.reset_index()\n"
   ]
  },
  {
   "cell_type": "code",
   "execution_count": 6,
   "metadata": {},
   "outputs": [],
   "source": [
    "data = data.drop('City', 1)\n",
    "data = data.drop('Cuisine Style', 1)\n",
    "data = data.drop('Price Range', 1)\n",
    "data = data.drop('Reviews', 1)\n",
    "data = data.drop('URL_TA', 1)\n",
    "data = data.drop('ID_TA', 1)\n",
    "data = data.drop('reviews_date', 1)\n",
    "data = data.drop('cuisine', 1)"
   ]
  },
  {
   "cell_type": "code",
   "execution_count": 7,
   "metadata": {},
   "outputs": [
    {
     "name": "stdout",
     "output_type": "stream",
     "text": [
      "<class 'pandas.core.frame.DataFrame'>\n",
      "RangeIndex: 40000 entries, 0 to 39999\n",
      "Data columns (total 42 columns):\n",
      " #   Column             Non-Null Count  Dtype  \n",
      "---  ------             --------------  -----  \n",
      " 0   Restaurant_id      40000 non-null  object \n",
      " 1   Ranking            40000 non-null  float64\n",
      " 2   Rating             40000 non-null  float64\n",
      " 3   Number of Reviews  40000 non-null  float64\n",
      " 4   Amsterdam          40000 non-null  uint8  \n",
      " 5   Athens             40000 non-null  uint8  \n",
      " 6   Barcelona          40000 non-null  uint8  \n",
      " 7   Berlin             40000 non-null  uint8  \n",
      " 8   Bratislava         40000 non-null  uint8  \n",
      " 9   Brussels           40000 non-null  uint8  \n",
      " 10  Budapest           40000 non-null  uint8  \n",
      " 11  Copenhagen         40000 non-null  uint8  \n",
      " 12  Dublin             40000 non-null  uint8  \n",
      " 13  Edinburgh          40000 non-null  uint8  \n",
      " 14  Geneva             40000 non-null  uint8  \n",
      " 15  Hamburg            40000 non-null  uint8  \n",
      " 16  Helsinki           40000 non-null  uint8  \n",
      " 17  Krakow             40000 non-null  uint8  \n",
      " 18  Lisbon             40000 non-null  uint8  \n",
      " 19  Ljubljana          40000 non-null  uint8  \n",
      " 20  London             40000 non-null  uint8  \n",
      " 21  Luxembourg         40000 non-null  uint8  \n",
      " 22  Lyon               40000 non-null  uint8  \n",
      " 23  Madrid             40000 non-null  uint8  \n",
      " 24  Milan              40000 non-null  uint8  \n",
      " 25  Munich             40000 non-null  uint8  \n",
      " 26  Oporto             40000 non-null  uint8  \n",
      " 27  Oslo               40000 non-null  uint8  \n",
      " 28  Paris              40000 non-null  uint8  \n",
      " 29  Prague             40000 non-null  uint8  \n",
      " 30  Rome               40000 non-null  uint8  \n",
      " 31  Stockholm          40000 non-null  uint8  \n",
      " 32  Vienna             40000 non-null  uint8  \n",
      " 33  Warsaw             40000 non-null  uint8  \n",
      " 34  Zurich             40000 non-null  uint8  \n",
      " 35  $                  40000 non-null  uint8  \n",
      " 36  $$ - $$$           40000 non-null  uint8  \n",
      " 37  $$$$               40000 non-null  uint8  \n",
      " 38  unknown            40000 non-null  uint8  \n",
      " 39  time_delta         40000 non-null  int64  \n",
      " 40  cuisine_qntty      40000 non-null  int64  \n",
      " 41  city_population    40000 non-null  float64\n",
      "dtypes: float64(4), int64(2), object(1), uint8(35)\n",
      "memory usage: 3.5+ MB\n"
     ]
    }
   ],
   "source": [
    "data.info()"
   ]
  },
  {
   "cell_type": "markdown",
   "metadata": {},
   "source": [
    "# Разбиваем датафрейм на части, необходимые для обучения и тестирования модели"
   ]
  },
  {
   "cell_type": "code",
   "execution_count": 9,
   "metadata": {},
   "outputs": [],
   "source": [
    "# Х - данные с информацией о ресторанах, у - целевая переменная (рейтинги ресторанов)\n",
    "X = data.drop(['Restaurant_id', 'Rating'], axis = 1)\n",
    "y = data['Rating']"
   ]
  },
  {
   "cell_type": "code",
   "execution_count": 10,
   "metadata": {},
   "outputs": [],
   "source": [
    "# Загружаем специальный инструмент для разбивки:\n",
    "from sklearn.model_selection import train_test_split"
   ]
  },
  {
   "cell_type": "code",
   "execution_count": 11,
   "metadata": {},
   "outputs": [],
   "source": [
    "# Наборы данных с меткой \"train\" будут использоваться для обучения модели, \"test\" - для тестирования.\n",
    "# Для тестирования мы будем использовать 25% от исходного датасета.\n",
    "X_train, X_test, y_train, y_test = train_test_split(X, y, test_size=0.25)"
   ]
  },
  {
   "cell_type": "markdown",
   "metadata": {},
   "source": [
    "# Создаём, обучаем и тестируем модель"
   ]
  },
  {
   "cell_type": "code",
   "execution_count": 12,
   "metadata": {},
   "outputs": [],
   "source": [
    "# Импортируем необходимые библиотеки:\n",
    "from sklearn.ensemble import RandomForestRegressor # инструмент для создания и обучения модели\n",
    "from sklearn import metrics # инструменты для оценки точности модели"
   ]
  },
  {
   "cell_type": "code",
   "execution_count": 13,
   "metadata": {},
   "outputs": [],
   "source": [
    "# Создаём модель\n",
    "regr = RandomForestRegressor(n_estimators=100)\n",
    "\n",
    "# Обучаем модель на тестовом наборе данных\n",
    "regr.fit(X_train, y_train)\n",
    "\n",
    "# Используем обученную модель для предсказания рейтинга ресторанов в тестовой выборке.\n",
    "# Предсказанные значения записываем в переменную y_pred\n",
    "y_pred = regr.predict(X_test)"
   ]
  },
  {
   "cell_type": "code",
   "execution_count": 14,
   "metadata": {},
   "outputs": [
    {
     "name": "stdout",
     "output_type": "stream",
     "text": [
      "MAE: 0.2092375\n"
     ]
    }
   ],
   "source": [
    "# Сравниваем предсказанные значения (y_pred) с реальными (y_test), и смотрим насколько они в среднем отличаются\n",
    "# Метрика называется Mean Absolute Error (MAE) и показывает среднее отклонение предсказанных значений от фактических.\n",
    "print('MAE:', metrics.mean_absolute_error(y_test, y_pred))"
   ]
  },
  {
   "cell_type": "code",
   "execution_count": null,
   "metadata": {},
   "outputs": [],
   "source": []
  }
 ],
 "metadata": {
  "kernelspec": {
   "display_name": "Python 3",
   "language": "python",
   "name": "python3"
  },
  "language_info": {
   "codemirror_mode": {
    "name": "ipython",
    "version": 3
   },
   "file_extension": ".py",
   "mimetype": "text/x-python",
   "name": "python",
   "nbconvert_exporter": "python",
   "pygments_lexer": "ipython3",
   "version": "3.8.5"
  }
 },
 "nbformat": 4,
 "nbformat_minor": 2
}
